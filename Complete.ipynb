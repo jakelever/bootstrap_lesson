{
 "cells": [
  {
   "cell_type": "code",
   "execution_count": 1,
   "metadata": {},
   "outputs": [],
   "source": [
    "# Let's import the numpy library to use some numerical functions\n",
    "\n",
    "import numpy as np\n",
    "\n",
    "# And let's load the steps dataset which is a list of step counts\n",
    "\n",
    "data = np.loadtxt('steps_data.tsv')"
   ]
  },
  {
   "cell_type": "code",
   "execution_count": 2,
   "metadata": {},
   "outputs": [
    {
     "data": {
      "text/plain": [
       "array([4855., 4827., 4888., 5701., 4872., 3502., 5332., 4732., 4783.,\n",
       "       5115., 5232., 6163., 5656., 5110., 4261., 3985., 5246., 6311.,\n",
       "       5041., 4893., 5531., 3546., 4687., 5490., 5873., 4759., 5376.,\n",
       "       5248., 5782., 3886., 5568., 3485., 2380., 4393., 4084., 5876.,\n",
       "       5664., 3780., 5847., 3997., 4913., 4706., 5114., 5818., 5638.,\n",
       "       5349., 5649., 5478., 4373., 4282., 4530., 5499., 4749., 7335.,\n",
       "       4180., 3901., 5768., 6421., 5505., 5835., 6426., 4905., 3577.,\n",
       "       4467., 5952., 3556., 5033., 5253., 4684., 5723., 5580., 7321.,\n",
       "       5619., 4390., 4438., 4168., 5952., 4433., 4929., 5749., 4276.,\n",
       "       4706., 3158., 3917., 4432., 5415., 6193., 4981., 5261., 5167.,\n",
       "       6084., 5893., 5273., 3989., 5903., 5381., 6226., 4970., 6953.,\n",
       "       4641.])"
      ]
     },
     "execution_count": 2,
     "metadata": {},
     "output_type": "execute_result"
    }
   ],
   "source": [
    "# Quickly look at the data to get an idea of what is there\n",
    "\n",
    "data"
   ]
  },
  {
   "cell_type": "code",
   "execution_count": 3,
   "metadata": {},
   "outputs": [
    {
     "data": {
      "text/plain": [
       "(100,)"
      ]
     },
     "execution_count": 3,
     "metadata": {},
     "output_type": "execute_result"
    }
   ],
   "source": [
    "# Check the number of samples\n",
    "\n",
    "data.shape"
   ]
  },
  {
   "cell_type": "code",
   "execution_count": 4,
   "metadata": {},
   "outputs": [],
   "source": [
    "# Pull that out as a variable\n",
    "\n",
    "N = data.shape[0]"
   ]
  },
  {
   "cell_type": "code",
   "execution_count": 5,
   "metadata": {},
   "outputs": [
    {
     "data": {
      "text/plain": [
       "5057.74"
      ]
     },
     "execution_count": 5,
     "metadata": {},
     "output_type": "execute_result"
    }
   ],
   "source": [
    "# What's the sample mean of the data?\n",
    "\n",
    "sample_mean = np.mean(data)\n",
    "sample_mean"
   ]
  },
  {
   "cell_type": "code",
   "execution_count": 6,
   "metadata": {},
   "outputs": [
    {
     "name": "stdout",
     "output_type": "stream",
     "text": [
      "2380.0 7335.0\n"
     ]
    }
   ],
   "source": [
    "# What are the minimum and maximum values of the data?\n",
    "\n",
    "print(np.min(data),np.max(data))"
   ]
  },
  {
   "cell_type": "code",
   "execution_count": 7,
   "metadata": {},
   "outputs": [],
   "source": [
    "# Bootstrap involves some random choice, so we'll use the\n",
    "# Python random module and set the seed to 42 for some\n",
    "# consistency\n",
    "\n",
    "import random\n",
    "random.seed(42)"
   ]
  },
  {
   "cell_type": "code",
   "execution_count": 8,
   "metadata": {},
   "outputs": [],
   "source": [
    "# Let's create a new bootstrap_sample\n",
    "\n",
    "bootstrap_sample = [ random.choice(data) for i in range(N) ]\n",
    "\n",
    "# And calculate the mean of the bootstrapped sample\n",
    "\n",
    "bootstrap_mean = sum(bootstrap_sample) / len(bootstrap_sample)"
   ]
  },
  {
   "cell_type": "code",
   "execution_count": 9,
   "metadata": {},
   "outputs": [],
   "source": [
    "# Let's do the above 1000 times and save the results\n",
    "\n",
    "bootstrapped = []\n",
    "for i in range(1000):\n",
    "    bootstrap_sample = [ random.choice(data) for i in range(N) ]\n",
    "    bootstrap_mean = sum(bootstrap_sample) / len(bootstrap_sample)\n",
    "    bootstrapped.append(bootstrap_mean)"
   ]
  },
  {
   "cell_type": "code",
   "execution_count": 10,
   "metadata": {},
   "outputs": [
    {
     "data": {
      "text/plain": [
       "5056.8446699999995"
      ]
     },
     "execution_count": 10,
     "metadata": {},
     "output_type": "execute_result"
    }
   ],
   "source": [
    "# What's the mean of these bootstrapped means?\n",
    "\n",
    "np.mean(bootstrapped)"
   ]
  },
  {
   "cell_type": "code",
   "execution_count": 11,
   "metadata": {},
   "outputs": [
    {
     "name": "stdout",
     "output_type": "stream",
     "text": [
      "4790.06 5347.79\n"
     ]
    }
   ],
   "source": [
    "# And what about the range?\n",
    "\n",
    "print(np.min(bootstrapped),np.max(bootstrapped))"
   ]
  },
  {
   "cell_type": "code",
   "execution_count": 12,
   "metadata": {},
   "outputs": [
    {
     "data": {
      "text/plain": [
       "(array([  5.,  35.,  94., 199., 226., 220., 129.,  61.,  24.,   7.]),\n",
       " array([4790.06 , 4845.833, 4901.606, 4957.379, 5013.152, 5068.925,\n",
       "        5124.698, 5180.471, 5236.244, 5292.017, 5347.79 ]),\n",
       " <a list of 10 Patch objects>)"
      ]
     },
     "execution_count": 12,
     "metadata": {},
     "output_type": "execute_result"
    },
    {
     "data": {
      "image/png": "[encoded data removed]",
      "text/plain": [
       "<Figure size 432x288 with 1 Axes>"
      ]
     },
     "metadata": {
      "needs_background": "light"
     },
     "output_type": "display_data"
    }
   ],
   "source": [
    "# Let's plot a histogram of the bootstrapped means\n",
    "\n",
    "import matplotlib.pyplot as plt\n",
    "plt.hist(bootstrapped)"
   ]
  },
  {
   "cell_type": "code",
   "execution_count": 13,
   "metadata": {},
   "outputs": [
    {
     "name": "stdout",
     "output_type": "stream",
     "text": [
      "4908.7325 5206.4325\n"
     ]
    }
   ],
   "source": [
    "# Finally, can we get the 5th percentile and the 95th percentile of the\n",
    "# bootstrapped means? That would give us our 90% confidence interval\n",
    "# for the real mean\n",
    "\n",
    "print(np.percentile(bootstrapped,5),np.percentile(bootstrapped,95))"
   ]
  },
  {
   "cell_type": "code",
   "execution_count": null,
   "metadata": {},
   "outputs": [],
   "source": []
  }
 ],
 "metadata": {
  "kernelspec": {
   "display_name": "Python 3",
   "language": "python",
   "name": "python3"
  },
  "language_info": {
   "codemirror_mode": {
    "name": "ipython",
    "version": 3
   },
   "file_extension": ".py",
   "mimetype": "text/x-python",
   "name": "python",
   "nbconvert_exporter": "python",
   "pygments_lexer": "ipython3",
   "version": "3.6.1"
  }
 },
 "nbformat": 4,
 "nbformat_minor": 4
}
