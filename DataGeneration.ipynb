{
 "cells": [
  {
   "cell_type": "code",
   "execution_count": 6,
   "metadata": {},
   "outputs": [],
   "source": [
    "# Notebook to generate some random data for step counts\n",
    "\n",
    "import random\n",
    "\n",
    "population_mean = 5000\n",
    "population_stddev = 1000\n",
    "\n",
    "N = 100\n",
    "\n",
    "random.seed(42)\n",
    "\n",
    "with open('steps_data.tsv','w') as f:\n",
    "    for i in range(N):\n",
    "        num = random.gauss(population_mean,population_stddev)\n",
    "        f.write(\"%d\\n\" % num)"
   ]
  },
  {
   "cell_type": "code",
   "execution_count": null,
   "metadata": {},
   "outputs": [],
   "source": []
  }
 ],
 "metadata": {
  "kernelspec": {
   "display_name": "Python 3",
   "language": "python",
   "name": "python3"
  },
  "language_info": {
   "codemirror_mode": {
    "name": "ipython",
    "version": 3
   },
   "file_extension": ".py",
   "mimetype": "text/x-python",
   "name": "python",
   "nbconvert_exporter": "python",
   "pygments_lexer": "ipython3",
   "version": "3.6.1"
  }
 },
 "nbformat": 4,
 "nbformat_minor": 4
}
